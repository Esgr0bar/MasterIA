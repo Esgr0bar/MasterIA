# EDA.ipynb

# Import necessary libraries
import librosa
import librosa.display
import matplotlib.pyplot as plt
import numpy as np
import os

# Function to load and visualize an audio file
def visualize_audio(file_path):
    # Load the audio file
    y, sr = librosa.load(file_path, sr=None)
    
    # Display waveform
    plt.figure(figsize=(14, 5))
    librosa.display.waveshow(y, sr=sr)
    plt.title('Waveform')
    plt.show()

    # Display spectrogram
    D = librosa.amplitude_to_db(np.abs(librosa.stft(y)), ref=np.max)
    plt.figure(figsize=(14, 5))
    librosa.display.specshow(D, sr=sr, x_axis='time', y_axis='log')
    plt.colorbar(format='%+2.0f dB')
    plt.title('Spectrogram')
    plt.show()

    # Extract and display MFCCs
    mfccs = librosa.feature.mfcc(y=y, sr=sr, n_mfcc=13)
    plt.figure(figsize=(14, 5))
    librosa.display.specshow(mfccs, sr=sr, x_axis='time')
    plt.colorbar()
    plt.title('MFCC')
    plt.show()
    
# Example usage: visualize an audio file
audio_file = '../data/raw/tracks/song1/vocals.wav'
visualize_audio(audio_file)

